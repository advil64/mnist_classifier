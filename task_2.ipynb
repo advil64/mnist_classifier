{
 "cells": [
  {
   "cell_type": "code",
   "execution_count": 1,
   "id": "487dce0a-e8cc-49d3-9097-384c8a620309",
   "metadata": {
    "tags": []
   },
   "outputs": [],
   "source": [
    "import torchvision\n",
    "from torchvision import datasets, transforms\n",
    "\n",
    "from sklearn.base import BaseEstimator\n",
    "from sklearn.model_selection import train_test_split\n",
    "import numpy as np"
   ]
  },
  {
   "cell_type": "code",
   "execution_count": 2,
   "id": "24144e88-aebd-406a-8295-9f6f97410804",
   "metadata": {
    "tags": []
   },
   "outputs": [],
   "source": [
    "def get_data(data, indices=None, binarize=True):\n",
    "    N = len(data)\n",
    "    if indices is None:\n",
    "        indices = range(0, N)\n",
    "\n",
    "    # Extract the Xs or the images\n",
    "    X = np.stack([data[i][0].numpy() for i in indices], axis=1).squeeze(0) # (N,28,28)\n",
    "    if binarize:\n",
    "        X = (X > 0.5)\n",
    "        X = X.astype(int)\n",
    "    \n",
    "    # Now extract the Ys or the labels of the images\n",
    "    y = np.array([data[i][1] for i in indices])\n",
    "\n",
    "    return X, y"
   ]
  },
  {
   "cell_type": "code",
   "execution_count": 3,
   "id": "2d9b1a9d-448b-4b71-a30e-92fe79c60516",
   "metadata": {
    "tags": []
   },
   "outputs": [],
   "source": [
    "## Dataset Prep\n",
    "transform=transforms.Compose([lambda img: torchvision.transforms.functional.rotate(img, -90),\n",
    "                                transforms.RandomHorizontalFlip(p=1),\n",
    "                                transforms.ToTensor()])\n",
    "\n",
    "data = datasets.EMNIST(\n",
    "    root=\"./data\",\n",
    "    split=\"balanced\",\n",
    "    download=True,\n",
    "    transform=transform\n",
    ")\n",
    "\n",
    "X, y = get_data(data, binarize=True)\n",
    "\n",
    "X_train, X_test, y_train, y_test = train_test_split(\n",
    "    X, y, test_size=0.90, random_state=0)"
   ]
  },
  {
   "cell_type": "code",
   "execution_count": 4,
   "id": "b270b334-9411-4bb6-b90c-48d957ff3f1d",
   "metadata": {
    "tags": []
   },
   "outputs": [],
   "source": [
    "class CategoricalNaiveBayes(BaseEstimator):\n",
    "    def __init__(self, b_i=2.0, b_j=2.0, alpha=1.0, use_map=False):\n",
    "        self.b_i = b_i  # Beta prior hyperparameter\n",
    "        self.b_j = b_j    # Beta prior hyperparameter\n",
    "        self.alpha = alpha # Dirichlet prior hyperparameter\n",
    "        self.use_map = use_map\n",
    "\n",
    "    def fit(self, X, y):\n",
    "        # All part of the Base Estimator parameters\n",
    "        assert len(X) == len(y)\n",
    "        self.classes_ = np.unique(y) # unique class labels in the training data\n",
    "        self.n_classes_ = len(self.classes_) # Number of provided classes\n",
    "        self.n_features_ = X[0].shape[0] * X[0].shape[1]\n",
    "        self.class_counts = np.bincount(y) # number of samples from each class\n",
    "        self.mean_features = []\n",
    "        \n",
    "        for c in self.classes_:\n",
    "            class_mask = (y == c) # in the labels array marks True if C matches the class\n",
    "            class_features = X[class_mask] # gets all the samples matching the class C\n",
    "            \n",
    "            # Adds all the pixels together then normalize\n",
    "            # p(x|y) probability of a feature appearing given some class C\n",
    "            if self.use_map:\n",
    "                self.mean_features.append((class_features.sum(axis=0) + self.b_i - 1) / (self.class_counts[c] + self.b_i + self.b_j - 2))\n",
    "            else:\n",
    "                self.mean_features.append((class_features.sum(axis=0) +1) / (self.class_counts[c]+2))\n",
    "            \n",
    "        #######\n",
    "        # We have the following info\n",
    "        # - Feature Probs: Has the probability that you see a pixel given some class C\n",
    "        # - Class Counts: The number of samples in each class\n",
    "        #######\n",
    "        \n",
    "        # p(y) probability of Y or probability of a class\n",
    "        if self.use_map:\n",
    "            self.class_probs = [(c + self.alpha - 1) / (len(y) + (self.n_classes_ * self.alpha) - self.n_classes_ )for c in self.class_counts]\n",
    "        else:\n",
    "            self.class_probs = [c / len(y) for c in self.class_counts]\n",
    "        \n",
    "        # get the log values (this will help for prediction)\n",
    "        self.log_feature_probs = [np.log(fp) for fp in self.mean_features]\n",
    "        self.log_feature_probs_neg = [np.log(1 - fp) for fp in self.mean_features]\n",
    "        self.log_class_priors = [np.log(cp) for cp in self.class_probs]\n",
    "        \n",
    "    def bayes_calculate(self, x):\n",
    "        x = np.expand_dims(x, 0)\n",
    "        \n",
    "        # See how many of the pixels line up with the priors (can be 0 or 1)\n",
    "        prob_x_given_y = self.log_feature_probs * x + self.log_feature_probs_neg * (1 - x)\n",
    "        prob_x_given_y = prob_x_given_y.reshape(self.n_classes_, -1).sum(axis=1)\n",
    "        return prob_x_given_y + self.log_class_priors   \n",
    "\n",
    "    def score(self, X, y):\n",
    "        y_scores = [sum(self.bayes_calculate(x)) for x in X]\n",
    "        return sum(y_scores)/len(y)\n"
   ]
  },
  {
   "cell_type": "code",
   "execution_count": 6,
   "id": "5cf04c8d-3824-4837-8510-3544af1e3ceb",
   "metadata": {
    "tags": []
   },
   "outputs": [
    {
     "data": {
      "text/plain": [
       "-15405.841898916782"
      ]
     },
     "execution_count": 6,
     "metadata": {},
     "output_type": "execute_result"
    }
   ],
   "source": [
    "model = CategoricalNaiveBayes(b_i=2.0, b_j=2.0, use_map=True)\n",
    "model.fit(X_train, y_train)\n",
    "model.score(X_test, y_test)"
   ]
  }
 ],
 "metadata": {
  "kernelspec": {
   "display_name": "Python 3 (ipykernel)",
   "language": "python",
   "name": "python3"
  },
  "language_info": {
   "codemirror_mode": {
    "name": "ipython",
    "version": 3
   },
   "file_extension": ".py",
   "mimetype": "text/x-python",
   "name": "python",
   "nbconvert_exporter": "python",
   "pygments_lexer": "ipython3",
   "version": "3.11.3"
  }
 },
 "nbformat": 4,
 "nbformat_minor": 5
}
